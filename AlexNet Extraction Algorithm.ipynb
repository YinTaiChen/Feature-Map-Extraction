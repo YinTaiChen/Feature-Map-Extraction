{
 "cells": [
  {
   "cell_type": "markdown",
   "metadata": {},
   "source": [
    "# AlexNet Extraction Algorithm"
   ]
  },
  {
   "cell_type": "markdown",
   "metadata": {},
   "source": [
    "Author: YinTaiChen"
   ]
  },
  {
   "cell_type": "code",
   "execution_count": 1,
   "metadata": {},
   "outputs": [],
   "source": [
    "import torch\n",
    "import torch.nn as nn\n",
    "import torchvision\n",
    "from torchvision import transforms\n",
    "from torch.autograd import Variable\n",
    "\n",
    "from PIL import Image"
   ]
  },
  {
   "cell_type": "code",
   "execution_count": 2,
   "metadata": {},
   "outputs": [],
   "source": [
    "model = torchvision.models.alexnet(pretrained=True)"
   ]
  },
  {
   "cell_type": "code",
   "execution_count": 3,
   "metadata": {},
   "outputs": [],
   "source": [
    "model_filters = [x for x in model.state_dict().items()]"
   ]
  },
  {
   "cell_type": "code",
   "execution_count": 4,
   "metadata": {},
   "outputs": [],
   "source": [
    "conv_1 = nn.Conv2d(3, 64, 11)\n",
    "conv_2 = nn.Conv2d(64, 192, 5)\n",
    "conv_3 = nn.Conv2d(192, 384, 3)\n",
    "conv_4 = nn.Conv2d(384, 256, 3)\n",
    "conv_5 = nn.Conv2d(256, 256, 3)"
   ]
  },
  {
   "cell_type": "code",
   "execution_count": 5,
   "metadata": {},
   "outputs": [],
   "source": [
    "names = [\"conv1\", \"conv2\", \"conv3\", \"conv4\", \"conv5\"]"
   ]
  },
  {
   "cell_type": "code",
   "execution_count": 6,
   "metadata": {},
   "outputs": [],
   "source": [
    "channels = [64, 192, 384, 256, 256]"
   ]
  },
  {
   "cell_type": "code",
   "execution_count": 7,
   "metadata": {},
   "outputs": [],
   "source": [
    "submodel_1 = nn.Sequential(conv_1, nn.ReLU(inplace=True))"
   ]
  },
  {
   "cell_type": "code",
   "execution_count": 8,
   "metadata": {},
   "outputs": [],
   "source": [
    "submodel_2 = nn.Sequential(conv_1,\n",
    "    nn.ReLU(inplace=True),\n",
    "    nn.MaxPool2d(3, 2, 1),                       \n",
    "    conv_2)"
   ]
  },
  {
   "cell_type": "code",
   "execution_count": 9,
   "metadata": {},
   "outputs": [],
   "source": [
    "submodel_3 = nn.Sequential(conv_1,\n",
    "    nn.ReLU(inplace=True),                       \n",
    "    nn.MaxPool2d(3, 2, 1),\n",
    "    conv_2,\n",
    "    nn.ReLU(inplace=True),                       \n",
    "    nn.MaxPool2d(3, 2, 1),\n",
    "    conv_3,\n",
    "    nn.ReLU(inplace=True))"
   ]
  },
  {
   "cell_type": "code",
   "execution_count": 11,
   "metadata": {},
   "outputs": [],
   "source": [
    "submodel_4 = nn.Sequential(conv_1,\n",
    "    nn.ReLU(inplace=True),                       \n",
    "    nn.MaxPool2d(3, 2, 1),\n",
    "    conv_2,\n",
    "    nn.ReLU(inplace=True),                       \n",
    "    nn.MaxPool2d(3, 2, 1),  \n",
    "    conv_3,\n",
    "    nn.ReLU(inplace=True),                      \n",
    "    conv_4,\n",
    "    nn.ReLU(inplace=True))"
   ]
  },
  {
   "cell_type": "code",
   "execution_count": 12,
   "metadata": {},
   "outputs": [],
   "source": [
    "submodel_5 = nn.Sequential(conv_1,\n",
    "    nn.ReLU(inplace=True),                       \n",
    "    nn.MaxPool2d(3, 2, 1),\n",
    "    conv_2,\n",
    "    nn.ReLU(inplace=True),                      \n",
    "    nn.MaxPool2d(3, 2, 1),  \n",
    "    conv_3,\n",
    "    nn.ReLU(inplace=True),                      \n",
    "    conv_4,\n",
    "    nn.ReLU(inplace=True),\n",
    "    conv_5,\n",
    "    nn.ReLU(inplace=True))"
   ]
  },
  {
   "cell_type": "code",
   "execution_count": 13,
   "metadata": {},
   "outputs": [],
   "source": [
    "submodels = [submodel_1, submodel_2, submodel_3, submodel_4, submodel_5]"
   ]
  },
  {
   "cell_type": "code",
   "execution_count": 14,
   "metadata": {},
   "outputs": [],
   "source": [
    "conv1_filters = [x for x in submodel_1.state_dict().items()]\n",
    "conv2_filters = [x for x in submodel_2.state_dict().items()]\n",
    "conv3_filters = [x for x in submodel_3.state_dict().items()]\n",
    "conv4_filters = [x for x in submodel_4.state_dict().items()]\n",
    "conv5_filters = [x for x in submodel_5.state_dict().items()]"
   ]
  },
  {
   "cell_type": "code",
   "execution_count": 15,
   "metadata": {},
   "outputs": [],
   "source": [
    "d_1 = {}\n",
    "for i in range(2):\n",
    "    d_1[conv1_filters[i][0]] = model_filters[i][1]\n",
    "\n",
    "d_2 = {}\n",
    "for i in range(4):\n",
    "    d_2[conv2_filters[i][0]] = model_filters[i][1]\n",
    "\n",
    "d_3 = {}\n",
    "for i in range(6):\n",
    "    d_3[conv3_filters[i][0]] = model_filters[i][1]\n",
    "\n",
    "d_4 = {}\n",
    "for i in range(8):\n",
    "    d_4[conv4_filters[i][0]] = model_filters[i][1]\n",
    "    \n",
    "d_5 = {}\n",
    "for i in range(10):\n",
    "    d_5[conv5_filters[i][0]] = model_filters[i][1]"
   ]
  },
  {
   "cell_type": "code",
   "execution_count": 16,
   "metadata": {},
   "outputs": [],
   "source": [
    "submodel_1.load_state_dict(d_1)\n",
    "submodel_2.load_state_dict(d_2)\n",
    "submodel_3.load_state_dict(d_3)\n",
    "submodel_4.load_state_dict(d_4)\n",
    "submodel_5.load_state_dict(d_5)"
   ]
  },
  {
   "cell_type": "code",
   "execution_count": 17,
   "metadata": {},
   "outputs": [],
   "source": [
    "img = Image.open(\"Lenna.png\")"
   ]
  },
  {
   "cell_type": "code",
   "execution_count": 18,
   "metadata": {},
   "outputs": [],
   "source": [
    "loader = transforms.ToTensor()"
   ]
  },
  {
   "cell_type": "code",
   "execution_count": 19,
   "metadata": {},
   "outputs": [],
   "source": [
    "unloader = transforms.ToPILImage()"
   ]
  },
  {
   "cell_type": "code",
   "execution_count": 20,
   "metadata": {},
   "outputs": [],
   "source": [
    "input = loader(img)\n",
    "input = Variable(input.unsqueeze(0))"
   ]
  },
  {
   "cell_type": "code",
   "execution_count": 21,
   "metadata": {},
   "outputs": [],
   "source": [
    "for i, submodel in enumerate(submodels):\n",
    "    output = submodel(input)\n",
    "    feature_maps = [x for x in output.data[0]]\n",
    "    ch = channels[i]\n",
    "    for j in range(ch-2):\n",
    "        image_tensor = torch.stack(feature_maps[j:j+3], 0)\n",
    "        to_save = unloader(image_tensor)\n",
    "        to_save.save('feature_maps/feature_map_'+names[i]+'_'+str(j)+'.jpg')"
   ]
  },
  {
   "cell_type": "code",
   "execution_count": null,
   "metadata": {},
   "outputs": [],
   "source": []
  }
 ],
 "metadata": {
  "kernelspec": {
   "display_name": "Python 3",
   "language": "python",
   "name": "python3"
  },
  "language_info": {
   "codemirror_mode": {
    "name": "ipython",
    "version": 3
   },
   "file_extension": ".py",
   "mimetype": "text/x-python",
   "name": "python",
   "nbconvert_exporter": "python",
   "pygments_lexer": "ipython3",
   "version": "3.5.2"
  }
 },
 "nbformat": 4,
 "nbformat_minor": 2
}
